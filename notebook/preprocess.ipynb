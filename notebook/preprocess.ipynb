{
 "cells": [
  {
   "cell_type": "code",
   "execution_count": 1,
   "metadata": {
    "ExecuteTime": {
     "end_time": "2021-05-17T13:35:54.458444Z",
     "start_time": "2021-05-17T13:35:54.019857Z"
    }
   },
   "outputs": [],
   "source": [
    "import pandas as pd\n",
    "import numpy as np\n",
    "import json\n",
    "from glob import glob\n",
    "import os"
   ]
  },
  {
   "cell_type": "code",
   "execution_count": 3,
   "metadata": {
    "ExecuteTime": {
     "end_time": "2021-05-17T13:36:17.743054Z",
     "start_time": "2021-05-17T13:36:17.620598Z"
    }
   },
   "outputs": [],
   "source": [
    "DATAROOT = '../data'\n",
    "\n",
    "RAWPATH = os.path.join(DATAROOT,'raw/')\n",
    "\n",
    "OUTPUTPATH = os.path.join(DATAROOT, 'processed/')\n",
    "!mkdir $OUTPUTPATH"
   ]
  },
  {
   "cell_type": "code",
   "execution_count": 4,
   "metadata": {
    "ExecuteTime": {
     "end_time": "2021-05-17T13:36:19.400038Z",
     "start_time": "2021-05-17T13:36:19.397767Z"
    }
   },
   "outputs": [],
   "source": [
    "WATER_STATION_FP = os.path.join(RAWPATH ,'ca_rs_locations_for_sensors.csv')\n",
    "WATER_STREAMFLOW_FP =  os.path.join(RAWPATH, 'Streamflow_data_USGS_original/Unfiltered/*.csv')"
   ]
  },
  {
   "cell_type": "code",
   "execution_count": 5,
   "metadata": {
    "ExecuteTime": {
     "end_time": "2021-05-17T13:36:37.396557Z",
     "start_time": "2021-05-17T13:36:20.794101Z"
    },
    "scrolled": false
   },
   "outputs": [
    {
     "name": "stderr",
     "output_type": "stream",
     "text": [
      "/Users/syeehyn/opt/anaconda3/envs/scipy-ml/lib/python3.8/site-packages/numpy/lib/arraysetops.py:580: FutureWarning: elementwise comparison failed; returning scalar instead, but in the future will perform elementwise comparison\n",
      "  mask |= (ar1 == a)\n"
     ]
    }
   ],
   "source": [
    "streamflow = pd.concat([pd.read_csv(i, \n",
    "                            index_col=0,\n",
    "                            parse_dates=['Date'],\n",
    "                            usecols=['site_no', 'Date', 'X_00060_00003']\n",
    "                           ) for i in \\\n",
    "                glob(WATER_STREAMFLOW_FP)]).reset_index()\n",
    "streamflow.columns = ['site_id', 'date', 'streamflow']\n",
    "\n",
    "streamflow = streamflow.astype(\n",
    "        {\n",
    "            'site_id': str,\n",
    "            'streamflow': float\n",
    "        }\n",
    ")"
   ]
  },
  {
   "cell_type": "code",
   "execution_count": 6,
   "metadata": {
    "ExecuteTime": {
     "end_time": "2021-05-17T13:36:38.504640Z",
     "start_time": "2021-05-17T13:36:38.487953Z"
    }
   },
   "outputs": [
    {
     "data": {
      "text/html": [
       "<div>\n",
       "<style scoped>\n",
       "    .dataframe tbody tr th:only-of-type {\n",
       "        vertical-align: middle;\n",
       "    }\n",
       "\n",
       "    .dataframe tbody tr th {\n",
       "        vertical-align: top;\n",
       "    }\n",
       "\n",
       "    .dataframe thead th {\n",
       "        text-align: right;\n",
       "    }\n",
       "</style>\n",
       "<table border=\"1\" class=\"dataframe\">\n",
       "  <thead>\n",
       "    <tr style=\"text-align: right;\">\n",
       "      <th></th>\n",
       "      <th>site_id</th>\n",
       "      <th>date</th>\n",
       "      <th>streamflow</th>\n",
       "    </tr>\n",
       "  </thead>\n",
       "  <tbody>\n",
       "    <tr>\n",
       "      <th>0</th>\n",
       "      <td>10250800</td>\n",
       "      <td>1962-10-01</td>\n",
       "      <td>0.3</td>\n",
       "    </tr>\n",
       "    <tr>\n",
       "      <th>1</th>\n",
       "      <td>10250800</td>\n",
       "      <td>1962-10-02</td>\n",
       "      <td>0.3</td>\n",
       "    </tr>\n",
       "    <tr>\n",
       "      <th>2</th>\n",
       "      <td>10250800</td>\n",
       "      <td>1962-10-03</td>\n",
       "      <td>0.3</td>\n",
       "    </tr>\n",
       "    <tr>\n",
       "      <th>3</th>\n",
       "      <td>10250800</td>\n",
       "      <td>1962-10-04</td>\n",
       "      <td>0.3</td>\n",
       "    </tr>\n",
       "    <tr>\n",
       "      <th>4</th>\n",
       "      <td>10250800</td>\n",
       "      <td>1962-10-05</td>\n",
       "      <td>0.3</td>\n",
       "    </tr>\n",
       "  </tbody>\n",
       "</table>\n",
       "</div>"
      ],
      "text/plain": [
       "    site_id       date  streamflow\n",
       "0  10250800 1962-10-01         0.3\n",
       "1  10250800 1962-10-02         0.3\n",
       "2  10250800 1962-10-03         0.3\n",
       "3  10250800 1962-10-04         0.3\n",
       "4  10250800 1962-10-05         0.3"
      ]
     },
     "execution_count": 6,
     "metadata": {},
     "output_type": "execute_result"
    }
   ],
   "source": [
    "streamflow.head()"
   ]
  },
  {
   "cell_type": "code",
   "execution_count": 7,
   "metadata": {
    "ExecuteTime": {
     "end_time": "2021-05-17T13:36:41.039352Z",
     "start_time": "2021-05-17T13:36:41.021657Z"
    }
   },
   "outputs": [],
   "source": [
    "station_reference = pd.read_csv(WATER_STATION_FP, \n",
    "                                usecols=['STAID', 'STANAME', 'HUC02', 'LAT_GAGE', \\\n",
    "                                         'LNG_GAGE', 'HCDN-2009', 'CLASS', 'AGGECOREGION'],\n",
    "                                index_col=None)\n",
    "station_reference.columns = ['site_id', 'site_name', 'huc02', 'latitude', 'longitude', \\\n",
    "                             'hucdn_2009', 'is_ref', 'aggecoregion']\n",
    "#a hacky patch that cast id into int\n",
    "station_reference.site_id = station_reference.site_id.astype(int)\n",
    "# cast binary into boolean type\n",
    "station_reference.hucdn_2009 = (station_reference.hucdn_2009 == 'yes')\n",
    "station_reference.is_ref = (station_reference.is_ref == 'Ref')\n",
    "station_reference = station_reference.astype(\n",
    "            {\n",
    "                'site_id': str,\n",
    "                'site_name': str,\n",
    "                'huc02': 'category',\n",
    "                'latitude': float,\n",
    "                'longitude': float,\n",
    "                'hucdn_2009': bool,\n",
    "                'aggecoregion': 'category'\n",
    "            }\n",
    ")\n",
    "#lowercase strings\n",
    "\n",
    "station_reference.site_name = station_reference.site_name.str.lower()\n",
    "station_reference.aggecoregion = station_reference.aggecoregion.str.lower()"
   ]
  },
  {
   "cell_type": "code",
   "execution_count": 8,
   "metadata": {
    "ExecuteTime": {
     "end_time": "2021-05-17T13:36:41.862618Z",
     "start_time": "2021-05-17T13:36:41.852907Z"
    }
   },
   "outputs": [
    {
     "data": {
      "text/html": [
       "<div>\n",
       "<style scoped>\n",
       "    .dataframe tbody tr th:only-of-type {\n",
       "        vertical-align: middle;\n",
       "    }\n",
       "\n",
       "    .dataframe tbody tr th {\n",
       "        vertical-align: top;\n",
       "    }\n",
       "\n",
       "    .dataframe thead th {\n",
       "        text-align: right;\n",
       "    }\n",
       "</style>\n",
       "<table border=\"1\" class=\"dataframe\">\n",
       "  <thead>\n",
       "    <tr style=\"text-align: right;\">\n",
       "      <th></th>\n",
       "      <th>site_id</th>\n",
       "      <th>site_name</th>\n",
       "      <th>huc02</th>\n",
       "      <th>latitude</th>\n",
       "      <th>longitude</th>\n",
       "      <th>hucdn_2009</th>\n",
       "      <th>is_ref</th>\n",
       "      <th>aggecoregion</th>\n",
       "    </tr>\n",
       "  </thead>\n",
       "  <tbody>\n",
       "    <tr>\n",
       "      <th>0</th>\n",
       "      <td>9423350</td>\n",
       "      <td>caruthers c nr ivanpah ca</td>\n",
       "      <td>15</td>\n",
       "      <td>35.244989</td>\n",
       "      <td>-115.298876</td>\n",
       "      <td>True</td>\n",
       "      <td>True</td>\n",
       "      <td>westxeric</td>\n",
       "    </tr>\n",
       "    <tr>\n",
       "      <th>1</th>\n",
       "      <td>10250800</td>\n",
       "      <td>darwin c nr darwin ca</td>\n",
       "      <td>18</td>\n",
       "      <td>36.320496</td>\n",
       "      <td>-117.523955</td>\n",
       "      <td>False</td>\n",
       "      <td>False</td>\n",
       "      <td>westxeric</td>\n",
       "    </tr>\n",
       "    <tr>\n",
       "      <th>2</th>\n",
       "      <td>10251300</td>\n",
       "      <td>amargosa river at tecopa, ca</td>\n",
       "      <td>18</td>\n",
       "      <td>35.848577</td>\n",
       "      <td>-116.230024</td>\n",
       "      <td>False</td>\n",
       "      <td>False</td>\n",
       "      <td>westxeric</td>\n",
       "    </tr>\n",
       "    <tr>\n",
       "      <th>3</th>\n",
       "      <td>10255700</td>\n",
       "      <td>san felipe c nr julian ca</td>\n",
       "      <td>18</td>\n",
       "      <td>33.118654</td>\n",
       "      <td>-116.435293</td>\n",
       "      <td>False</td>\n",
       "      <td>False</td>\n",
       "      <td>westxeric</td>\n",
       "    </tr>\n",
       "    <tr>\n",
       "      <th>4</th>\n",
       "      <td>10255800</td>\n",
       "      <td>coyote c nr borrego springs ca</td>\n",
       "      <td>18</td>\n",
       "      <td>33.373645</td>\n",
       "      <td>-116.427514</td>\n",
       "      <td>False</td>\n",
       "      <td>True</td>\n",
       "      <td>westxeric</td>\n",
       "    </tr>\n",
       "  </tbody>\n",
       "</table>\n",
       "</div>"
      ],
      "text/plain": [
       "    site_id                       site_name huc02   latitude   longitude  \\\n",
       "0   9423350       caruthers c nr ivanpah ca    15  35.244989 -115.298876   \n",
       "1  10250800           darwin c nr darwin ca    18  36.320496 -117.523955   \n",
       "2  10251300    amargosa river at tecopa, ca    18  35.848577 -116.230024   \n",
       "3  10255700       san felipe c nr julian ca    18  33.118654 -116.435293   \n",
       "4  10255800  coyote c nr borrego springs ca    18  33.373645 -116.427514   \n",
       "\n",
       "   hucdn_2009  is_ref aggecoregion  \n",
       "0        True    True    westxeric  \n",
       "1       False   False    westxeric  \n",
       "2       False   False    westxeric  \n",
       "3       False   False    westxeric  \n",
       "4       False    True    westxeric  "
      ]
     },
     "execution_count": 8,
     "metadata": {},
     "output_type": "execute_result"
    }
   ],
   "source": [
    "station_reference.head()"
   ]
  },
  {
   "cell_type": "code",
   "execution_count": 9,
   "metadata": {
    "ExecuteTime": {
     "end_time": "2021-05-17T13:36:44.553989Z",
     "start_time": "2021-05-17T13:36:43.901028Z"
    }
   },
   "outputs": [],
   "source": [
    "# all streamflow data is in the site refence data\n",
    "assert all(np.isin(streamflow.site_id.unique(), station_reference.site_id))"
   ]
  },
  {
   "cell_type": "code",
   "execution_count": 10,
   "metadata": {
    "ExecuteTime": {
     "end_time": "2021-05-17T13:36:56.558020Z",
     "start_time": "2021-05-17T13:36:45.362849Z"
    }
   },
   "outputs": [],
   "source": [
    "complete_datum = streamflow.pivot_table(index='date', columns='site_id', values='streamflow')"
   ]
  },
  {
   "cell_type": "code",
   "execution_count": 11,
   "metadata": {
    "ExecuteTime": {
     "end_time": "2021-05-17T13:36:58.957832Z",
     "start_time": "2021-05-17T13:36:58.955144Z"
    }
   },
   "outputs": [],
   "source": [
    "start_date, end_date = complete_datum.index[[0, -1]]"
   ]
  },
  {
   "cell_type": "code",
   "execution_count": 12,
   "metadata": {
    "ExecuteTime": {
     "end_time": "2021-05-17T13:36:59.497666Z",
     "start_time": "2021-05-17T13:36:59.494298Z"
    }
   },
   "outputs": [
    {
     "data": {
      "text/plain": [
       "Timestamp('1891-01-01 00:00:00')"
      ]
     },
     "execution_count": 12,
     "metadata": {},
     "output_type": "execute_result"
    }
   ],
   "source": [
    "start_date"
   ]
  },
  {
   "cell_type": "code",
   "execution_count": 13,
   "metadata": {
    "ExecuteTime": {
     "end_time": "2021-05-17T13:37:00.081405Z",
     "start_time": "2021-05-17T13:37:00.078156Z"
    }
   },
   "outputs": [
    {
     "data": {
      "text/plain": [
       "Timestamp('2019-10-14 00:00:00')"
      ]
     },
     "execution_count": 13,
     "metadata": {},
     "output_type": "execute_result"
    }
   ],
   "source": [
    "end_date"
   ]
  },
  {
   "cell_type": "code",
   "execution_count": 14,
   "metadata": {
    "ExecuteTime": {
     "end_time": "2021-05-17T13:38:45.580317Z",
     "start_time": "2021-05-17T13:37:04.646609Z"
    }
   },
   "outputs": [],
   "source": [
    "streamflow.to_csv(os.path.join(OUTPUTPATH, 'streamflow_parsed.csv'), index=False)\n",
    "complete_datum.to_csv(os.path.join(OUTPUTPATH, 'streamflow_sequence.csv'))\n",
    "station_reference.to_csv(os.path.join(OUTPUTPATH, 'site_reference.csv'), index=False)"
   ]
  },
  {
   "cell_type": "code",
   "execution_count": 15,
   "metadata": {
    "ExecuteTime": {
     "end_time": "2021-05-17T13:39:29.882076Z",
     "start_time": "2021-05-17T13:39:28.246814Z"
    }
   },
   "outputs": [],
   "source": [
    "metadata = {\n",
    "    'streamflow_parsed': {\n",
    "        'site_id': {\n",
    "            'type': 'string',\n",
    "            'description': 'the site id of the observation',\n",
    "            'metadata': f'{streamflow.site_id.nunique()} number of unique sites'\n",
    "        },\n",
    "        'date': {\n",
    "            'type': 'date',\n",
    "            'description': 'the dates of each row',\n",
    "            'startsAt': '1891-01-01',\n",
    "            'endsAt': '2019-10-14'\n",
    "        },\n",
    "        'streamflow': {\n",
    "            'type': 'float',\n",
    "            'description': 'stream flow on daily average',\n",
    "        }\n",
    "    },\n",
    "    'streamflow_sequence': {\n",
    "        'description': 'daily streamflow information on each sites, columns: on each site, rows: on each day'\n",
    "    },\n",
    "    'site_reference': {\n",
    "        'site_id': {\n",
    "            'type': 'string',\n",
    "            'description': 'the site id of the observation',\n",
    "            'metadata': f'{station_reference.site_id.nunique()} number of unique sites'\n",
    "        },\n",
    "        'site_name': {\n",
    "            'type': 'string',\n",
    "            'description': 'the station name in lower case'\n",
    "        },\n",
    "        'huc02': {\n",
    "            'type': 'string',\n",
    "            'description': 'the huc02 region of the site',\n",
    "            'metadata': list(station_reference.huc02.unique())\n",
    "        },\n",
    "        'latitude': {\n",
    "            'type': 'float',\n",
    "            'description': 'the corresponding latitude of the site in epsg 3857'\n",
    "        },\n",
    "        'longitude': {\n",
    "            'type': 'float',\n",
    "            'description': 'the corresponding longitude of the site in epsg 3857'\n",
    "        },\n",
    "        'hucdn_2009': {\n",
    "            'type': 'boolean',\n",
    "            'description': 'True if is in hucdn_2009, False otherwise'\n",
    "        },\n",
    "        'is_ref': {\n",
    "            'type': 'boolean',\n",
    "            'description': 'True if is reference site, False otherwise'\n",
    "        },\n",
    "        'aggecoregion':{\n",
    "            'type': 'string',\n",
    "            'description': 'the aggecoregion of the site',\n",
    "            'metadata': list(station_reference.aggecoregion.unique())\n",
    "        }\n",
    "    }\n",
    "}\n",
    "metadata['streamflow_parsed']['streamflow']['metadata'] = streamflow.streamflow.describe().to_dict()"
   ]
  },
  {
   "cell_type": "code",
   "execution_count": 16,
   "metadata": {
    "ExecuteTime": {
     "end_time": "2021-05-17T13:39:29.886970Z",
     "start_time": "2021-05-17T13:39:29.883983Z"
    }
   },
   "outputs": [],
   "source": [
    "with open(os.path.join(OUTPUTPATH, 'METADATA.json'), 'w+') as f:\n",
    "    json.dump(metadata, f)"
   ]
  },
  {
   "cell_type": "code",
   "execution_count": 17,
   "metadata": {
    "ExecuteTime": {
     "end_time": "2021-05-17T21:20:36.593244Z",
     "start_time": "2021-05-17T21:20:36.590754Z"
    }
   },
   "outputs": [
    {
     "data": {
      "text/plain": [
       "1979"
      ]
     },
     "execution_count": 17,
     "metadata": {},
     "output_type": "execute_result"
    }
   ],
   "source": [
    "1979"
   ]
  },
  {
   "cell_type": "code",
   "execution_count": null,
   "metadata": {},
   "outputs": [],
   "source": []
  }
 ],
 "metadata": {
  "kernelspec": {
   "display_name": "Python [conda env:scipy-ml]",
   "language": "python",
   "name": "conda-env-scipy-ml-py"
  },
  "language_info": {
   "codemirror_mode": {
    "name": "ipython",
    "version": 3
   },
   "file_extension": ".py",
   "mimetype": "text/x-python",
   "name": "python",
   "nbconvert_exporter": "python",
   "pygments_lexer": "ipython3",
   "version": "3.8.5"
  },
  "toc": {
   "base_numbering": 1,
   "nav_menu": {},
   "number_sections": true,
   "sideBar": true,
   "skip_h1_title": false,
   "title_cell": "Table of Contents",
   "title_sidebar": "Contents",
   "toc_cell": false,
   "toc_position": {},
   "toc_section_display": true,
   "toc_window_display": false
  }
 },
 "nbformat": 4,
 "nbformat_minor": 4
}
